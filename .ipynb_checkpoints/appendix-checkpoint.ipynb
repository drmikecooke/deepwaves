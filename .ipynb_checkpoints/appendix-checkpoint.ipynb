{
 "cells": [
  {
   "cell_type": "markdown",
   "id": "339981bd-63f0-4e1f-8b07-d730c47244c9",
   "metadata": {},
   "source": [
    "# Appendix presenting code in waterwaves.py\n",
    "\n",
    "First up import modules:"
   ]
  },
  {
   "cell_type": "code",
   "execution_count": null,
   "id": "9feef333-4d4d-45b6-9834-b9492c2de2c9",
   "metadata": {},
   "outputs": [],
   "source": [
    "import numpy as np\n",
    "from scipy.optimize import root"
   ]
  },
  {
   "cell_type": "markdown",
   "id": "f2a379d4-ec92-40c4-a6dc-ff5e2855afb0",
   "metadata": {},
   "source": [
    "Pack and unpack vectors for root finding:"
   ]
  },
  {
   "cell_type": "code",
   "execution_count": null,
   "id": "446e38bc-4db2-4935-b249-fd9dffa42579",
   "metadata": {},
   "outputs": [],
   "source": [
    "def pack(Ej,Bj,Ub,Q,R): \n",
    "    '''Bind Ej,Bj,Ub,Q,R into one vector A'''\n",
    "    N=len(Bj)\n",
    "    A=np.zeros(2*N+3)\n",
    "    A[:N]=Ej\n",
    "    A[N:2*N]=Bj\n",
    "    A[2*N:]=Ub,Q,R\n",
    "    return A\n",
    "\n",
    "def unpack(A): \n",
    "    '''Split A into Ej,Bj,Ub,Q,R'''\n",
    "    N=(len(A)-3)//2\n",
    "    return A[:N],A[N:2*N],*A[2*N:]"
   ]
  },
  {
   "cell_type": "code",
   "execution_count": null,
   "id": "8eed5e6c-376c-40c9-a227-6ecfa10499cf",
   "metadata": {},
   "outputs": [],
   "source": [
    "Fourier manipulations"
   ]
  },
  {
   "cell_type": "code",
   "execution_count": null,
   "id": "f759c31e-6581-4f1d-bb67-90c9fc77afd5",
   "metadata": {},
   "outputs": [],
   "source": [
    "def FEtam(Etam):\n",
    "    '''Convert Eta array to fourier coefficients, 0 order is 2*d'''\n",
    "    N=len(Etam)-1\n",
    "    Xm=np.linspace(0,np.pi,N+1)\n",
    "    j=np.arange(0,N+1)\n",
    "    Xmj=Xm.reshape((N+1,1))@j.reshape((1,N+1))\n",
    "    return 2*(Etam[1:-1]@np.cos(Xmj)[1:-1])/N+Etam[0]*np.cos(Xmj)[0]/N+Etam[-1]*np.cos(Xmj)[-1]/N\n",
    "\n",
    "def IEj(Ej,X):\n",
    "    '''Use Ej to interpolate eta at values in X-array, Ej[0]=d'''\n",
    "    N=len(Ej)\n",
    "    CXj=np.cos(X.reshape(len(X),1)@np.arange(0,N).reshape(1,N))\n",
    "    return CXj@Ej"
   ]
  },
  {
   "cell_type": "code",
   "execution_count": null,
   "id": "eb1bdd75-6cce-4d8e-a167-1811121ad5a4",
   "metadata": {},
   "outputs": [],
   "source": [
    "def linear(N,H,d):\n",
    "    '''Linear approximation to wave form'''\n",
    "    Bj0=np.zeros(N) # initial guess based on linear approximation\n",
    "    Ej0=np.zeros(N)\n",
    "    Ub0=1 if d==0 else np.tanh(d)**(1/2)\n",
    "    Bj0[0]=H/2/Ub0\n",
    "    Ej0[0]=H/2\n",
    "    Q0,R0=Ub0*d,Ub0**2/2+d    \n",
    "    return pack(Ej0,Bj0,Ub0,Q0,R0) # pack them into vector\n",
    "\n",
    "def F(A,H,d,g):\n",
    "    '''Set of conditions on boundaries'''\n",
    "    Ej,Bj,Ub,Q,R=unpack(A)\n",
    "    N=len(Ej)\n",
    "    Etam=IEj([d,*Ej],g.Xm) # imposes depth constraint\n",
    "    Etamj=Etam.reshape((N+1,1))@g.j.reshape((1,N))\n",
    "    C,S=(np.exp,np.exp) if d==0 else (np.cosh,np.sinh) # hyperbolics for Y dependence, for deep water use exp\n",
    "    CEmj,SEmj=C(Etamj)/g.scl,S(Etamj)/g.scl\n",
    "    kin=-Ub*Etam+((SEmj*g.CXmj))@(Bj)+Q # 2N+1 kinetic conditions\n",
    "    Um=-Ub+((CEmj*g.CXmj))@(g.j*Bj)\n",
    "    Vm=((SEmj*g.SXmj))@(g.j*Bj)\n",
    "    dyn=(Um**2+Vm**2)/2+Etam-R # 2N dynamic conditions\n",
    "    height=Etam[0]-Etam[-1] # assume height is maximum-minium given by eta at x=0,pi, respectively\n",
    "    return np.hstack([kin,dyn,height-H])\n",
    "\n",
    "class grids:\n",
    "    '''Set up collocation grids, \n",
    "    N: number of Fourier terms\n",
    "    dscl: scaling of B coefficients,\n",
    "            Fenton uses d,\n",
    "            modified forms such as d+H can improve stability for high waves'''\n",
    "    def __init__(self,N,dscl):\n",
    "        self.Xm=np.linspace(0,np.pi,N+1) # N+1 grid for collocation, index m\n",
    "        self.j=np.arange(1,N+1) # Fourier index j from 1 to N\n",
    "        # create matrix of X-grid multiplied by Fourier index\n",
    "        self.Xmj=self.Xm.reshape((N+1,1))@self.j.reshape((1,N))\n",
    "        # evaluate cos and sin on Xmj\n",
    "        self.CXmj,self.SXmj=np.cos(self.Xmj),np.sin(self.Xmj)\n",
    "        self.scl=np.cosh(self.j*dscl) # scaling denominator\n",
    "\n",
    "def wave(N,H,d=0,scaler=0): # d=0 default for deep water, scaler default d+H\n",
    "    # I use k,g=1,1 units so wavelength is 2pi\n",
    "    A0=linear(N,H,d) # use linear approximation to start root finding\n",
    "    Xm=np.linspace(0,np.pi,N+1) # N+1 grid for collocation\n",
    "    j=np.arange(1,N+1) # Fourier index from 1 to N\n",
    "    g=grids(N,d+H) if scaler==0 else grids(N,scaler)\n",
    "    return root(F,A0,args=(H,d,g)) # deliver root of F which encodes boundary conditions, and Fenton eta Fourier components (E)"
   ]
  }
 ],
 "metadata": {
  "kernelspec": {
   "display_name": "Python 3 (ipykernel)",
   "language": "python",
   "name": "python3"
  },
  "language_info": {
   "codemirror_mode": {
    "name": "ipython",
    "version": 3
   },
   "file_extension": ".py",
   "mimetype": "text/x-python",
   "name": "python",
   "nbconvert_exporter": "python",
   "pygments_lexer": "ipython3",
   "version": "3.11.2"
  }
 },
 "nbformat": 4,
 "nbformat_minor": 5
}
