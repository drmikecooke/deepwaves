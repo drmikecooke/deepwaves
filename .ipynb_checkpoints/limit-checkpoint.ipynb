{
 "cells": [
  {
   "cell_type": "markdown",
   "id": "b13980be-3522-4066-87ac-347d6f4e5b92",
   "metadata": {},
   "source": [
    "# Deep renormalization"
   ]
  },
  {
   "cell_type": "code",
   "execution_count": 1,
   "id": "4304ff61-7326-4a0f-ad91-5ba062b3707f",
   "metadata": {},
   "outputs": [],
   "source": [
    "import matplotlib.pyplot as plt\n",
    "\n",
    "import numpy as np\n",
    "from scipy.optimize import fsolve,root_scalar as rs,root,newton"
   ]
  },
  {
   "cell_type": "code",
   "execution_count": 2,
   "id": "9f61dd26-dcab-4056-b065-e634dbf99a9b",
   "metadata": {},
   "outputs": [],
   "source": [
    "def pack(Ej,Bj,Ub,Q,R): # bind into one vector A\n",
    "    N=len(Bj)\n",
    "    A=np.zeros(2*N+3)\n",
    "    A[:N]=Ej\n",
    "    A[N:2*N]=Bj\n",
    "    A[2*N:]=Ub,Q,R\n",
    "    return A\n",
    "\n",
    "def unpack(A):\n",
    "    N=(len(A)-3)//2\n",
    "    return A[:N],A[N:2*N],*A[2*N:] # split A into Etam,Bj,Ub,Q,R\n",
    "    \n",
    "def F(A): # set of conditions on boundaries\n",
    "    Ej,Bj,Ub,Q,R=unpack(A)\n",
    "    Etam=IEj0([d,*Ej],Xm)\n",
    "    Etamj=Etam.reshape((N+1,1))@j.reshape((1,N))\n",
    "    CEmj,SEmj=C(Etamj)/Chjd,S(Etamj)/Chjd\n",
    "    kin=-Ub*Etam+((SEmj*CXmj))@(Bj)+Q # 2N+1 conditions\n",
    "    Um=-Ub+((CEmj*CXmj))@(j*Bj)\n",
    "    Vm=((SEmj*SXmj))@(j*Bj)\n",
    "    dyn=(Um**2+Vm**2)/2+Etam-R # 2N conditions\n",
    "    height=Etam[0]-Etam[-1]\n",
    "    return np.hstack([kin,dyn,height-H])\n",
    "\n",
    "def FEtam(Etam):\n",
    "    '''Convert Eta array to fourier coefficients, 0 element is E_1'''\n",
    "    N=len(Etam)-1\n",
    "    Xm=np.linspace(0,np.pi,N+1)\n",
    "    j=np.arange(1,N+1)\n",
    "    Xmj=Xm.reshape((N+1,1))@j.reshape((1,N))\n",
    "    return 2*(Etam[1:-1]@np.cos(Xmj)[1:-1])/N+Etam[0]*np.cos(Xmj)[0]/N+Etam[-1]*np.cos(Xmj)[-1]/N\n",
    "\n",
    "def FEtam0(Etam):\n",
    "    '''Convert Eta array to fourier coefficients, 0 order is 2*d'''\n",
    "    N=len(Etam)-1\n",
    "    Xm=np.linspace(0,np.pi,N+1)\n",
    "    j=np.arange(0,N+1)\n",
    "    Xmj=Xm.reshape((N+1,1))@j.reshape((1,N+1))\n",
    "    return 2*(Etam[1:-1]@np.cos(Xmj)[1:-1])/N+Etam[0]*np.cos(Xmj)[0]/N+Etam[-1]*np.cos(Xmj)[-1]/N\n",
    "\n",
    "def IEj(Ej,X):\n",
    "    '''Use Ej to interpolate eta at values in X-array'''\n",
    "    N=len(Ej)\n",
    "    CXj=np.cos(X.reshape(len(X),1)@np.arange(1,N+1).reshape(1,N))\n",
    "    return d+CXj@Ej\n",
    "\n",
    "def IEj0(Ej,X):\n",
    "    '''Use Ej to interpolate eta at values in X-array, E0=d'''\n",
    "    N=len(Ej)\n",
    "    CXj=np.cos(X.reshape(len(X),1)@np.arange(0,N).reshape(1,N))\n",
    "    return CXj@Ej"
   ]
  },
  {
   "cell_type": "code",
   "execution_count": 3,
   "id": "61a507c0-51d6-4d6a-862b-549cae7bdc94",
   "metadata": {},
   "outputs": [],
   "source": [
    "N,H,d=20,0.133*2*np.pi,0\n",
    "Bj0=np.zeros(N)\n",
    "Ej0=np.zeros(N)\n",
    "Ub0=1 if d==0 else np.tanh(d)**(1/2)\n",
    "Bj0[0]=H/2/Ub0\n",
    "Ej0[0]=H/2\n",
    "Q0,R0=Ub0*d,Ub0**2/2+d\n",
    "Xm=np.linspace(0,np.pi,N+1)\n",
    "\n",
    "A0=pack(Ej0,Bj0,Ub0,Q0,R0)\n",
    "\n",
    "j=np.arange(1,N+1)\n",
    "Xmj=Xm.reshape((N+1,1))@j.reshape((1,N))\n",
    "CXmj,SXmj,Chjd=np.cos(Xmj),np.sin(Xmj),np.cosh(j*H)\n",
    "C,S=(np.exp,np.exp) if d==0 else (np.cosh,np.sinh)"
   ]
  },
  {
   "cell_type": "code",
   "execution_count": 4,
   "id": "11d52a6f-0412-4429-98ca-e5b6989dd6c4",
   "metadata": {},
   "outputs": [
    {
     "data": {
      "text/plain": [
       "(array([3.59416458e-01, 9.09215632e-02, 3.79349893e-02, 1.95394482e-02,\n",
       "        1.12901895e-02, 7.00993295e-03, 4.57137592e-03, 3.08945788e-03,\n",
       "        2.14569948e-03, 1.52314208e-03, 1.10125169e-03, 8.09390837e-04,\n",
       "        6.04390728e-04, 4.58986428e-04, 3.55520898e-04, 2.82364275e-04,\n",
       "        2.31806920e-04, 1.98790781e-04, 1.80140511e-04, 8.70547563e-05]),\n",
       " array([4.72575298e-01, 4.18178552e-02, 1.57998393e-02, 8.06766819e-03,\n",
       "        4.78468094e-03, 3.10762766e-03, 2.14532493e-03, 1.54723815e-03,\n",
       "        1.15325449e-03, 8.82016186e-04, 6.88749372e-04, 5.47242743e-04,\n",
       "        4.41388108e-04, 3.60906184e-04, 2.99063717e-04, 2.51404955e-04,\n",
       "        2.15050523e-04, 1.88298582e-04, 1.70121355e-04, 1.19877819e-04]),\n",
       " np.float64(1.088854502905526),\n",
       " np.float64(-0.0704431323206342),\n",
       " np.float64(0.5928012827981628),\n",
       "  message: The solution converged.\n",
       "  success: True\n",
       "   status: 1\n",
       "      fun: [ 1.000e-12  5.635e-13 ...  9.381e-14  4.441e-16]\n",
       "        x: [ 3.594e-01  9.092e-02 ... -7.044e-02  5.928e-01]\n",
       "   method: hybr\n",
       "     nfev: 111\n",
       "     fjac: [[-5.779e-02 -6.451e-02 ... -2.462e-01  3.736e-01]\n",
       "            [-8.385e-02 -9.014e-02 ...  1.940e-01  1.220e-01]\n",
       "            ...\n",
       "            [ 2.139e-03 -1.223e-03 ...  3.046e-01  7.551e-04]\n",
       "            [ 2.049e-04 -2.561e-05 ... -1.220e-01  1.066e-04]]\n",
       "        r: [ 5.354e+00 -1.567e+00 ...  3.974e-03  4.811e-04]\n",
       "      qtf: [-4.085e-11 -4.992e-11 ...  2.672e-13  4.284e-14])"
      ]
     },
     "execution_count": 4,
     "metadata": {},
     "output_type": "execute_result"
    }
   ],
   "source": [
    "sol=root(F,A0)\n",
    "Ej,Bj,Ub,Q,R=unpack(sol.x)\n",
    "Ej,Bj,Ub,Q,R,sol"
   ]
  },
  {
   "cell_type": "code",
   "execution_count": 5,
   "id": "11fa9840-99c6-459b-b134-9ad088bee46c",
   "metadata": {},
   "outputs": [
    {
     "data": {
      "text/plain": [
       "Text(0.5, 1.0, 'H=0.8356636458548851 H/L=0.133')"
      ]
     },
     "execution_count": 5,
     "metadata": {},
     "output_type": "execute_result"
    },
    {
     "data": {
      "image/png": "[encoded data removed]",
      "text/plain": [
       "<Figure size 640x480 with 1 Axes>"
      ]
     },
     "metadata": {},
     "output_type": "display_data"
    }
   ],
   "source": [
    "X=np.linspace(0,np.pi,100)\n",
    "plt.plot(X,IEj(Ej,X),label=f\"Num: N={N}\")\n",
    "A=2*np.pi/(3**(1/2)*np.sinh(1/2))\n",
    "YM=A*(np.cosh((X-np.pi)/2/np.pi)-2*np.sinh(1/2))\n",
    "plt.plot(X,YM,label=\"approx. limit\") # from wikipedia page\n",
    "plt.legend()\n",
    "plt.title(f'H={H} H/L={H/2/np.pi}')"
   ]
  },
  {
   "cell_type": "code",
   "execution_count": null,
   "id": "79edc165-6010-49e3-b383-3c6dd497924d",
   "metadata": {},
   "outputs": [],
   "source": []
  }
 ],
 "metadata": {
  "kernelspec": {
   "display_name": "Python 3 (ipykernel)",
   "language": "python",
   "name": "python3"
  },
  "language_info": {
   "codemirror_mode": {
    "name": "ipython",
    "version": 3
   },
   "file_extension": ".py",
   "mimetype": "text/x-python",
   "name": "python",
   "nbconvert_exporter": "python",
   "pygments_lexer": "ipython3",
   "version": "3.11.2"
  }
 },
 "nbformat": 4,
 "nbformat_minor": 5
}
