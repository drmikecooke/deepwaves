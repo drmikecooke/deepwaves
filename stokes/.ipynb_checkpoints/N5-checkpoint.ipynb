{
 "cells": [
  {
   "cell_type": "code",
   "execution_count": null,
   "id": "91f15308-d048-4f87-b89f-98cd04dd9d15",
   "metadata": {},
   "outputs": [],
   "source": [
    "import sympy as sm\n",
    "from sympy.simplify.fu import TR8"
   ]
  },
  {
   "cell_type": "code",
   "execution_count": null,
   "id": "8da93c6a-9b0d-449c-8a8f-6a07bd88806e",
   "metadata": {},
   "outputs": [],
   "source": [
    "b,p=sm.symbols('b \\\\phi')\n",
    "A_1=b\n",
    "\n",
    "A_24,A_44=sm.symbols('A_{24} A_{44}')\n",
    "A_2=b**2+A_24*b**4\n",
    "A_3=sm.Rational(3,2)*b**3\n",
    "A_4=A_44*b**4"
   ]
  },
  {
   "cell_type": "code",
   "execution_count": null,
   "id": "887e161b-c980-4c1f-9b40-6b2ef3d806e0",
   "metadata": {},
   "outputs": [],
   "source": [
    "x=-p-A_1*sm.sin(p)-A_2*sm.sin(2*p)-A_3*sm.sin(3*p)-A_4*sm.sin(4*p)\n",
    "x"
   ]
  },
  {
   "cell_type": "code",
   "execution_count": null,
   "id": "169f51f6-66a6-4294-9b40-1e3fbe55a532",
   "metadata": {},
   "outputs": [],
   "source": [
    "y=A_1*sm.cos(p)+A_2*sm.cos(2*p)+A_3*sm.cos(3*p)+-A_4*sm.cos(4*p)\n",
    "y"
   ]
  },
  {
   "cell_type": "code",
   "execution_count": null,
   "id": "6002486e-71a2-4c5f-a365-f076de527fac",
   "metadata": {},
   "outputs": [],
   "source": [
    "F_4,K_4=sm.symbols('F_4 K_4')\n",
    "F=1+b**2+F_4*b**4\n",
    "K=b**2+K_4*b**4"
   ]
  },
  {
   "cell_type": "code",
   "execution_count": null,
   "id": "2455a1e0-3a0f-4b14-9712-8613554457e9",
   "metadata": {},
   "outputs": [],
   "source": [
    "S=x.diff(p)**2+y.diff(p)**2\n",
    "S"
   ]
  },
  {
   "cell_type": "code",
   "execution_count": null,
   "id": "8244ba2c-199b-4f22-9da1-9618bacef8e5",
   "metadata": {},
   "outputs": [],
   "source": [
    "(TR8(((F+K-2*y)*S-F).expand().collect(b))/b**4).expand().subs(b,0)"
   ]
  },
  {
   "cell_type": "code",
   "execution_count": null,
   "id": "dac847d1-fb68-4328-af61-ad2fcc2c0bf0",
   "metadata": {},
   "outputs": [],
   "source": [
    "series=((F+K-2*y)*S-F).subs(A_44,sm.Rational(8,5)).subs(A_24,sm.Rational(1,2)).subs(K_4,2).series(b,n=5)\n",
    "TR8(series)"
   ]
  },
  {
   "cell_type": "code",
   "execution_count": null,
   "id": "4a345bd2-d4d6-4662-8cbc-77f837e07231",
   "metadata": {},
   "outputs": [],
   "source": [
    "x=x.subs(A_44,sm.Rational(8,5)).subs(A_24,sm.Rational(1,2))\n",
    "x"
   ]
  },
  {
   "cell_type": "code",
   "execution_count": null,
   "id": "953b1355-25b7-45f1-9840-93c6532e3d14",
   "metadata": {},
   "outputs": [],
   "source": [
    "y=y.subs(A_44,sm.Rational(8,5)).subs(A_24,sm.Rational(1,2))\n",
    "y"
   ]
  },
  {
   "cell_type": "code",
   "execution_count": null,
   "id": "985b511f-b2e3-4f16-b5ab-2efb04616610",
   "metadata": {},
   "outputs": [],
   "source": [
    "import numpy as np\n",
    "from matplotlib.pyplot import plot\n",
    "P=np.linspace(0,2*np.pi)\n",
    "for bi in np.linspace(0,0.43,5):\n",
    "    X=[x.subs(b,bi).subs(p,pi) for pi in P]\n",
    "    Y=[y.subs(b,bi).subs(p,pi) for pi in P]\n",
    "    plot(X,Y)"
   ]
  },
  {
   "cell_type": "code",
   "execution_count": null,
   "id": "9c4d26cc-318a-4532-996d-462110d278ae",
   "metadata": {},
   "outputs": [],
   "source": []
  }
 ],
 "metadata": {
  "kernelspec": {
   "display_name": "Python 3 (ipykernel)",
   "language": "python",
   "name": "python3"
  },
  "language_info": {
   "codemirror_mode": {
    "name": "ipython",
    "version": 3
   },
   "file_extension": ".py",
   "mimetype": "text/x-python",
   "name": "python",
   "nbconvert_exporter": "python",
   "pygments_lexer": "ipython3",
   "version": "3.11.2"
  }
 },
 "nbformat": 4,
 "nbformat_minor": 5
}
