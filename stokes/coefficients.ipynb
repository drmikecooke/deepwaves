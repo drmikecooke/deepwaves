{
 "cells": [
  {
   "cell_type": "code",
   "execution_count": 1,
   "id": "91f15308-d048-4f87-b89f-98cd04dd9d15",
   "metadata": {},
   "outputs": [],
   "source": [
    "import sympy as sm\n",
    "from sympy.simplify.fu import TR8"
   ]
  },
  {
   "cell_type": "code",
   "execution_count": 2,
   "id": "8da93c6a-9b0d-449c-8a8f-6a07bd88806e",
   "metadata": {},
   "outputs": [],
   "source": [
    "b,p=sm.symbols('b \\\\phi')\n",
    "N=9\n",
    "A=[b]\n",
    "for NN in range(2,N+1):\n",
    "    A+=[sum([sm.Symbol('A_{'+f'{NN},{n}'+'}')*b**n for n in range(NN,N+1,2)])]"
   ]
  },
  {
   "cell_type": "code",
   "execution_count": 3,
   "id": "887e161b-c980-4c1f-9b40-6b2ef3d806e0",
   "metadata": {},
   "outputs": [
    {
     "data": {
      "text/latex": [
       "$\\displaystyle - A_{8,8} b^{8} \\sin{\\left(8 \\phi \\right)} - A_{9,9} b^{9} \\sin{\\left(9 \\phi \\right)} - \\phi - b \\sin{\\left(\\phi \\right)} - \\left(A_{6,6} b^{6} + A_{6,8} b^{8}\\right) \\sin{\\left(6 \\phi \\right)} - \\left(A_{7,7} b^{7} + A_{7,9} b^{9}\\right) \\sin{\\left(7 \\phi \\right)} - \\left(A_{4,4} b^{4} + A_{4,6} b^{6} + A_{4,8} b^{8}\\right) \\sin{\\left(4 \\phi \\right)} - \\left(A_{5,5} b^{5} + A_{5,7} b^{7} + A_{5,9} b^{9}\\right) \\sin{\\left(5 \\phi \\right)} - \\left(A_{2,2} b^{2} + A_{2,4} b^{4} + A_{2,6} b^{6} + A_{2,8} b^{8}\\right) \\sin{\\left(2 \\phi \\right)} - \\left(A_{3,3} b^{3} + A_{3,5} b^{5} + A_{3,7} b^{7} + A_{3,9} b^{9}\\right) \\sin{\\left(3 \\phi \\right)}$"
      ],
      "text/plain": [
       "-A_{8,8}*b**8*sin(8*\\phi) - A_{9,9}*b**9*sin(9*\\phi) - \\phi - b*sin(\\phi) - (A_{6,6}*b**6 + A_{6,8}*b**8)*sin(6*\\phi) - (A_{7,7}*b**7 + A_{7,9}*b**9)*sin(7*\\phi) - (A_{4,4}*b**4 + A_{4,6}*b**6 + A_{4,8}*b**8)*sin(4*\\phi) - (A_{5,5}*b**5 + A_{5,7}*b**7 + A_{5,9}*b**9)*sin(5*\\phi) - (A_{2,2}*b**2 + A_{2,4}*b**4 + A_{2,6}*b**6 + A_{2,8}*b**8)*sin(2*\\phi) - (A_{3,3}*b**3 + A_{3,5}*b**5 + A_{3,7}*b**7 + A_{3,9}*b**9)*sin(3*\\phi)"
      ]
     },
     "execution_count": 3,
     "metadata": {},
     "output_type": "execute_result"
    }
   ],
   "source": [
    "x=-p-sum([A[n-1]*sm.sin(n*p) for n in range(1,N+1)])\n",
    "x"
   ]
  },
  {
   "cell_type": "code",
   "execution_count": 4,
   "id": "169f51f6-66a6-4294-9b40-1e3fbe55a532",
   "metadata": {},
   "outputs": [
    {
     "data": {
      "text/latex": [
       "$\\displaystyle A_{8,8} b^{8} \\cos{\\left(8 \\phi \\right)} + A_{9,9} b^{9} \\cos{\\left(9 \\phi \\right)} + b \\cos{\\left(\\phi \\right)} + \\left(A_{6,6} b^{6} + A_{6,8} b^{8}\\right) \\cos{\\left(6 \\phi \\right)} + \\left(A_{7,7} b^{7} + A_{7,9} b^{9}\\right) \\cos{\\left(7 \\phi \\right)} + \\left(A_{4,4} b^{4} + A_{4,6} b^{6} + A_{4,8} b^{8}\\right) \\cos{\\left(4 \\phi \\right)} + \\left(A_{5,5} b^{5} + A_{5,7} b^{7} + A_{5,9} b^{9}\\right) \\cos{\\left(5 \\phi \\right)} + \\left(A_{2,2} b^{2} + A_{2,4} b^{4} + A_{2,6} b^{6} + A_{2,8} b^{8}\\right) \\cos{\\left(2 \\phi \\right)} + \\left(A_{3,3} b^{3} + A_{3,5} b^{5} + A_{3,7} b^{7} + A_{3,9} b^{9}\\right) \\cos{\\left(3 \\phi \\right)}$"
      ],
      "text/plain": [
       "A_{8,8}*b**8*cos(8*\\phi) + A_{9,9}*b**9*cos(9*\\phi) + b*cos(\\phi) + (A_{6,6}*b**6 + A_{6,8}*b**8)*cos(6*\\phi) + (A_{7,7}*b**7 + A_{7,9}*b**9)*cos(7*\\phi) + (A_{4,4}*b**4 + A_{4,6}*b**6 + A_{4,8}*b**8)*cos(4*\\phi) + (A_{5,5}*b**5 + A_{5,7}*b**7 + A_{5,9}*b**9)*cos(5*\\phi) + (A_{2,2}*b**2 + A_{2,4}*b**4 + A_{2,6}*b**6 + A_{2,8}*b**8)*cos(2*\\phi) + (A_{3,3}*b**3 + A_{3,5}*b**5 + A_{3,7}*b**7 + A_{3,9}*b**9)*cos(3*\\phi)"
      ]
     },
     "execution_count": 4,
     "metadata": {},
     "output_type": "execute_result"
    }
   ],
   "source": [
    "y=sum([A[n-1]*sm.cos(n*p) for n in range(1,N+1)])\n",
    "y"
   ]
  },
  {
   "cell_type": "code",
   "execution_count": 5,
   "id": "2455a1e0-3a0f-4b14-9712-8613554457e9",
   "metadata": {},
   "outputs": [
    {
     "data": {
      "text/latex": [
       "$\\displaystyle \\left(- 8 A_{8,8} b^{8} \\sin{\\left(8 \\phi \\right)} - 9 A_{9,9} b^{9} \\sin{\\left(9 \\phi \\right)} - b \\sin{\\left(\\phi \\right)} - 6 \\left(A_{6,6} b^{6} + A_{6,8} b^{8}\\right) \\sin{\\left(6 \\phi \\right)} - 7 \\left(A_{7,7} b^{7} + A_{7,9} b^{9}\\right) \\sin{\\left(7 \\phi \\right)} - 4 \\left(A_{4,4} b^{4} + A_{4,6} b^{6} + A_{4,8} b^{8}\\right) \\sin{\\left(4 \\phi \\right)} - 5 \\left(A_{5,5} b^{5} + A_{5,7} b^{7} + A_{5,9} b^{9}\\right) \\sin{\\left(5 \\phi \\right)} - 2 \\left(A_{2,2} b^{2} + A_{2,4} b^{4} + A_{2,6} b^{6} + A_{2,8} b^{8}\\right) \\sin{\\left(2 \\phi \\right)} - 3 \\left(A_{3,3} b^{3} + A_{3,5} b^{5} + A_{3,7} b^{7} + A_{3,9} b^{9}\\right) \\sin{\\left(3 \\phi \\right)}\\right)^{2} + \\left(- 8 A_{8,8} b^{8} \\cos{\\left(8 \\phi \\right)} - 9 A_{9,9} b^{9} \\cos{\\left(9 \\phi \\right)} - b \\cos{\\left(\\phi \\right)} - 6 \\left(A_{6,6} b^{6} + A_{6,8} b^{8}\\right) \\cos{\\left(6 \\phi \\right)} - 7 \\left(A_{7,7} b^{7} + A_{7,9} b^{9}\\right) \\cos{\\left(7 \\phi \\right)} - 4 \\left(A_{4,4} b^{4} + A_{4,6} b^{6} + A_{4,8} b^{8}\\right) \\cos{\\left(4 \\phi \\right)} - 5 \\left(A_{5,5} b^{5} + A_{5,7} b^{7} + A_{5,9} b^{9}\\right) \\cos{\\left(5 \\phi \\right)} - 2 \\left(A_{2,2} b^{2} + A_{2,4} b^{4} + A_{2,6} b^{6} + A_{2,8} b^{8}\\right) \\cos{\\left(2 \\phi \\right)} - 3 \\left(A_{3,3} b^{3} + A_{3,5} b^{5} + A_{3,7} b^{7} + A_{3,9} b^{9}\\right) \\cos{\\left(3 \\phi \\right)} - 1\\right)^{2}$"
      ],
      "text/plain": [
       "(-8*A_{8,8}*b**8*sin(8*\\phi) - 9*A_{9,9}*b**9*sin(9*\\phi) - b*sin(\\phi) - 6*(A_{6,6}*b**6 + A_{6,8}*b**8)*sin(6*\\phi) - 7*(A_{7,7}*b**7 + A_{7,9}*b**9)*sin(7*\\phi) - 4*(A_{4,4}*b**4 + A_{4,6}*b**6 + A_{4,8}*b**8)*sin(4*\\phi) - 5*(A_{5,5}*b**5 + A_{5,7}*b**7 + A_{5,9}*b**9)*sin(5*\\phi) - 2*(A_{2,2}*b**2 + A_{2,4}*b**4 + A_{2,6}*b**6 + A_{2,8}*b**8)*sin(2*\\phi) - 3*(A_{3,3}*b**3 + A_{3,5}*b**5 + A_{3,7}*b**7 + A_{3,9}*b**9)*sin(3*\\phi))**2 + (-8*A_{8,8}*b**8*cos(8*\\phi) - 9*A_{9,9}*b**9*cos(9*\\phi) - b*cos(\\phi) - 6*(A_{6,6}*b**6 + A_{6,8}*b**8)*cos(6*\\phi) - 7*(A_{7,7}*b**7 + A_{7,9}*b**9)*cos(7*\\phi) - 4*(A_{4,4}*b**4 + A_{4,6}*b**6 + A_{4,8}*b**8)*cos(4*\\phi) - 5*(A_{5,5}*b**5 + A_{5,7}*b**7 + A_{5,9}*b**9)*cos(5*\\phi) - 2*(A_{2,2}*b**2 + A_{2,4}*b**4 + A_{2,6}*b**6 + A_{2,8}*b**8)*cos(2*\\phi) - 3*(A_{3,3}*b**3 + A_{3,5}*b**5 + A_{3,7}*b**7 + A_{3,9}*b**9)*cos(3*\\phi) - 1)**2"
      ]
     },
     "execution_count": 5,
     "metadata": {},
     "output_type": "execute_result"
    }
   ],
   "source": [
    "S=x.diff(p)**2+y.diff(p)**2\n",
    "S"
   ]
  },
  {
   "cell_type": "code",
   "execution_count": 6,
   "id": "efc54732-092a-4bb2-9bcf-2ab8058f92e7",
   "metadata": {},
   "outputs": [],
   "source": [
    "F=1+sum([sm.Symbol('F_{'+str(n)+'}')*b**n for n in range(2,N+1,2)])\n",
    "K=sum([sm.Symbol('K_{'+str(n)+'}')*b**n for n in range(2,N+1,2)])"
   ]
  },
  {
   "cell_type": "code",
   "execution_count": 7,
   "id": "fcd519d9-bde1-4d84-9017-0b445fa22685",
   "metadata": {
    "scrolled": true
   },
   "outputs": [
    {
     "data": {
      "text/plain": [
       "{A_{2,2}: 1,\n",
       " K_{2}: 1,\n",
       " A_{3,3}: 3/2,\n",
       " F_{2}: 1,\n",
       " A_{2,4}: 1/2,\n",
       " A_{4,4}: 8/3,\n",
       " K_{4}: 2,\n",
       " A_{3,5}: 19/12,\n",
       " A_{5,5}: 125/24,\n",
       " F_{4}: 7/2,\n",
       " A_{2,6}: 29/12,\n",
       " A_{4,6}: 313/72,\n",
       " A_{6,6}: 54/5,\n",
       " K_{6}: 35/4,\n",
       " A_{3,7}: 1183/144,\n",
       " A_{5,7}: 16603/1440,\n",
       " A_{7,7}: 16807/720,\n",
       " F_{6}: 229/12,\n",
       " A_{2,8}: 1123/72,\n",
       " A_{4,8}: 103727/4320,\n",
       " A_{6,8}: 54473/1800,\n",
       " A_{8,8}: 16384/315,\n",
       " K_{8}: 1903/36,\n",
       " A_{3,9}: 475367/8640,\n",
       " A_{5,9}: 5824751/86400,\n",
       " A_{7,9}: 23954003/302400,\n",
       " A_{9,9}: 531441/4480,\n",
       " F_{8}: 6175/48}"
      ]
     },
     "execution_count": 7,
     "metadata": {},
     "output_type": "execute_result"
    }
   ],
   "source": [
    "z=sm.Symbol('z')\n",
    "def zify(expr,n):\n",
    "    for k in range(0,n+1):\n",
    "        expr=expr.subs(sm.cos(k*p),(z**k+1/z**k)/2)\n",
    "        expr=expr.subs(sm.sin(k*p),(z**k-1/z**k)/2j)\n",
    "    return expr\n",
    "    \n",
    "def order(n):\n",
    "    if n%2==0:\n",
    "        unk=[sm.Symbol('K_{'+str(n)+'}')]+[sm.Symbol('A_{'+f'{k},{n}'+'}') for k in range(2,n+1,2)]\n",
    "    else:\n",
    "        unk=[sm.Symbol('F_{'+str(n-1)+'}')]+[sm.Symbol('A_{'+f'{k},{n}'+'}') for k in range(3,n+1,2)]\n",
    "    low=TR8(grav.taylor_term(n,b)/b**n)\n",
    "    system=[]\n",
    "    zed=(zify(TR8(low.expand()),n+1)*z**n).expand()\n",
    "    for k in range(0,2*len(unk),2):\n",
    "        system+=[zed.taylor_term(k,z)/z**k]\n",
    "    sol=sm.solve(system,unk)\n",
    "    return sol\n",
    "\n",
    "grav=(F+K-2*y)*S-F\n",
    "sol={}\n",
    "for n in range(2,10):\n",
    "    sol|=order(n)\n",
    "    \n",
    "    for sym in sol:\n",
    "        grav=grav.subs(sym,sol[sym])\n",
    "\n",
    "sol"
   ]
  },
  {
   "cell_type": "code",
   "execution_count": 8,
   "id": "4a345bd2-d4d6-4662-8cbc-77f837e07231",
   "metadata": {
    "scrolled": true
   },
   "outputs": [],
   "source": [
    "for sym in sol:\n",
    "    x=x.subs(sym,sol[sym])\n",
    "    y=y.subs(sym,sol[sym])"
   ]
  },
  {
   "cell_type": "code",
   "execution_count": null,
   "id": "985b511f-b2e3-4f16-b5ab-2efb04616610",
   "metadata": {},
   "outputs": [],
   "source": [
    "import numpy as np\n",
    "from matplotlib.pyplot import plot\n",
    "P=np.linspace(0,4*np.pi,200)\n",
    "for bi in np.linspace(0,0.3,5):\n",
    "    X=[x.subs(b,bi).subs(p,pi) for pi in P]\n",
    "    Y=[y.subs(b,bi).subs(p,pi) for pi in P]\n",
    "    plot(X,Y)"
   ]
  },
  {
   "cell_type": "code",
   "execution_count": null,
   "id": "e73af0ee-174c-4579-92e6-3529b96fd5fe",
   "metadata": {},
   "outputs": [],
   "source": [
    "import json\n",
    "\n",
    "DL={}\n",
    "for coeff in sol:\n",
    "    if repr(coeff)[0] in DL:\n",
    "        DL[repr(coeff)[0]]|={repr(coeff)[3:-1]:repr(sol[coeff])}\n",
    "    else:\n",
    "        DL[repr(coeff)[0]]={repr(coeff)[3:-1]:repr(sol[coeff])}\n",
    "\n",
    "with open('stokes.json','wt') as stokes:\n",
    "    json.dump(DL,stokes)"
   ]
  },
  {
   "cell_type": "code",
   "execution_count": null,
   "id": "df561869-463c-479c-9e63-9d2f7723d7f3",
   "metadata": {},
   "outputs": [],
   "source": []
  }
 ],
 "metadata": {
  "kernelspec": {
   "display_name": "Python 3 (ipykernel)",
   "language": "python",
   "name": "python3"
  },
  "language_info": {
   "codemirror_mode": {
    "name": "ipython",
    "version": 3
   },
   "file_extension": ".py",
   "mimetype": "text/x-python",
   "name": "python",
   "nbconvert_exporter": "python",
   "pygments_lexer": "ipython3",
   "version": "3.11.2"
  }
 },
 "nbformat": 4,
 "nbformat_minor": 5
}
